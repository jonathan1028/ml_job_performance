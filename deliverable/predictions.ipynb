{
 "cells": [
  {
   "cell_type": "markdown",
   "metadata": {},
   "source": [
    "# FS Consulting\n"
   ]
  },
  {
   "cell_type": "markdown",
   "metadata": {},
   "source": [
    "## Load New Data"
   ]
  },
  {
   "cell_type": "code",
   "execution_count": 1,
   "metadata": {},
   "outputs": [
    {
     "name": "stdout",
     "output_type": "stream",
     "text": [
      "New data successfully imported.\n"
     ]
    }
   ],
   "source": [
    "import matplotlib.pyplot as plt\n",
    "import pandas as pd\n",
    "import numpy as np\n",
    "import torch\n",
    "from torchvision import datasets, transforms\n",
    "import model_1\n",
    "from torch import optim\n",
    "from torch.utils.data.sampler import RandomSampler\n",
    "\n",
    "# Import new data for predictions & create empty DataFrame with shape[test_set.shape[0],1]\n",
    "production_data = pd.read_csv('./data/1814_Preprocessed_TestSet.csv')\n",
    "production_targets = pd.DataFrame(index=range(production_data.shape[0]),columns=range(1),dtype='float')\n",
    "\n",
    "if isinstance(production_data, pd.DataFrame):\n",
    "    print(\"New data successfully imported.\")\n",
    "else:\n",
    "    print(\"New data failed to import.\")"
   ]
  },
  {
   "cell_type": "markdown",
   "metadata": {},
   "source": [
    "## Preprocess Data & Setup Data Loader"
   ]
  },
  {
   "cell_type": "code",
   "execution_count": 2,
   "metadata": {},
   "outputs": [
    {
     "name": "stdout",
     "output_type": "stream",
     "text": [
      "New data successfully preprocessed and is ready for predictions.\n"
     ]
    }
   ],
   "source": [
    "# Preprocessing pipeline here\n",
    "\n",
    "production_data = torch.utils.data.TensorDataset(torch.Tensor(np.array(production_data)), torch.Tensor(np.array(production_targets)))\n",
    "production_loader = torch.utils.data.DataLoader(production_data, batch_size = 32, shuffle = False)\n",
    "\n",
    "if(production_loader):\n",
    "    print(\"New data successfully preprocessed and is ready for predictions.\")\n",
    "else:\n",
    "    print(\"Preprocessing failed.\")"
   ]
  },
  {
   "cell_type": "markdown",
   "metadata": {},
   "source": [
    "## Load Model"
   ]
  },
  {
   "cell_type": "code",
   "execution_count": 6,
   "metadata": {},
   "outputs": [
    {
     "name": "stdout",
     "output_type": "stream",
     "text": [
      "Our Model: \n",
      " JobPerformance(\n",
      "  (hidden_layers): ModuleList(\n",
      "    (0): Linear(in_features=1814, out_features=1054, bias=True)\n",
      "    (1): Linear(in_features=1054, out_features=512, bias=True)\n",
      "    (2): Linear(in_features=512, out_features=256, bias=True)\n",
      "    (3): Linear(in_features=256, out_features=64, bias=True)\n",
      "    (4): Linear(in_features=64, out_features=32, bias=True)\n",
      "    (5): Linear(in_features=32, out_features=16, bias=True)\n",
      "  )\n",
      "  (output): Linear(in_features=16, out_features=1, bias=True)\n",
      "  (dropout): Dropout(p=0.0)\n",
      ") \n",
      "\n",
      "State Dict Keys:\n",
      " odict_keys(['hidden_layers.0.weight', 'hidden_layers.0.bias', 'hidden_layers.1.weight', 'hidden_layers.1.bias', 'hidden_layers.2.weight', 'hidden_layers.2.bias', 'hidden_layers.3.weight', 'hidden_layers.3.bias', 'hidden_layers.4.weight', 'hidden_layers.4.bias', 'hidden_layers.5.weight', 'hidden_layers.5.bias', 'output.weight', 'output.bias']) \n",
      "\n",
      "Criterion: SmoothL1Loss() \n",
      "\n",
      "Optimizer: Adam (\n",
      "Parameter Group 0\n",
      "    amsgrad: False\n",
      "    betas: (0.9, 0.999)\n",
      "    eps: 1e-08\n",
      "    lr: 0.003\n",
      "    weight_decay: 0\n",
      ") \n",
      "\n"
     ]
    }
   ],
   "source": [
    "def load_checkpoint(filepath):\n",
    "    checkpoint = torch.load(filepath)\n",
    "    model = model_1.JobPerformance(checkpoint['input_size'],checkpoint['output_size'],checkpoint['hidden_layers'],checkpoint['drop_out'])\n",
    "    model.load_state_dict(checkpoint['state_dict'])\n",
    "    criterion = checkpoint['criterion']\n",
    "    optimizer = checkpoint['optimizer']\n",
    "    learning_rate = checkpoint['learning_rate']\n",
    "    \n",
    "    return model, criterion, optimizer, learning_rate\n",
    "\n",
    "model, criterion, optimizer, learning_rate = load_checkpoint('checkpoint_v1.pth')\n",
    "print(\"Our Model: \\n\",model,\"\\n\")\n",
    "print(\"State Dict Keys:\\n\",model.state_dict().keys(),\"\\n\")\n",
    "print(\"Criterion:\",criterion,\"\\n\")\n",
    "print(\"Optimizer:\",optimizer,\"\\n\")\n"
   ]
  },
  {
   "cell_type": "markdown",
   "metadata": {},
   "source": [
    "## Obtain & Save Predictions"
   ]
  },
  {
   "cell_type": "code",
   "execution_count": 18,
   "metadata": {},
   "outputs": [
    {
     "name": "stdout",
     "output_type": "stream",
     "text": [
      "Predictions data saved to CSV file.\n"
     ]
    }
   ],
   "source": [
    "predictions_tensor = model_1.predict(model, production_loader)\n",
    "output_dataframe = pd.DataFrame(predictions_tensor.detach().numpy().round(2))\n",
    "\n",
    "raw_test_set = pd.read_csv('./data/TestSet.csv')\n",
    "raw_test_set['job_performance'] = output_dataframe.iloc[:,0]\n",
    "raw_test_set.to_csv(r'./data/predictions_v1.csv', index=False)\n",
    "print(\"Predictions data saved to CSV file.\")"
   ]
  },
  {
   "cell_type": "markdown",
   "metadata": {},
   "source": [
    "## Expected Results\n",
    "MSE of 31,000 - 35,000"
   ]
  },
  {
   "cell_type": "code",
   "execution_count": null,
   "metadata": {},
   "outputs": [],
   "source": [
    "                                                                                                                     "
   ]
  }
 ],
 "metadata": {
  "kernelspec": {
   "display_name": "Python 3",
   "language": "python",
   "name": "python3"
  },
  "language_info": {
   "codemirror_mode": {
    "name": "ipython",
    "version": 3
   },
   "file_extension": ".py",
   "mimetype": "text/x-python",
   "name": "python",
   "nbconvert_exporter": "python",
   "pygments_lexer": "ipython3",
   "version": "3.7.1"
  }
 },
 "nbformat": 4,
 "nbformat_minor": 2
}
