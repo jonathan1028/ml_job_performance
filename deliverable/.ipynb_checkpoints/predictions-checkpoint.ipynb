{
 "cells": [
  {
   "cell_type": "markdown",
   "metadata": {},
   "source": [
    "# FS Consulting"
   ]
  },
  {
   "cell_type": "markdown",
   "metadata": {},
   "source": [
    "## Load Model & New Production Data"
   ]
  },
  {
   "cell_type": "code",
   "execution_count": 2,
   "metadata": {},
   "outputs": [
    {
     "name": "stderr",
     "output_type": "stream",
     "text": [
      "C:\\Users\\Jonathan\\Anaconda3\\lib\\site-packages\\IPython\\core\\interactiveshell.py:3020: DtypeWarning: Columns (50,255,256,257,258,260,268) have mixed types. Specify dtype option on import or set low_memory=False.\n",
      "  interactivity=interactivity, compiler=compiler, result=result)\n"
     ]
    },
    {
     "name": "stdout",
     "output_type": "stream",
     "text": [
      "New data successfully imported.\n"
     ]
    }
   ],
   "source": [
    "import matplotlib.pyplot as plt\n",
    "import pandas as pd\n",
    "import numpy as np\n",
    "import torch\n",
    "import model_1\n",
    "\n",
    "# # Import new data for predictions & create empty DataFrame with shape[test_set.shape[0],1]\n",
    "# production_data = pd.read_csv('./data/1814_Preprocessed_TestSet.csv')\n",
    "# production_targets = pd.DataFrame(index=range(production_data.shape[0]),columns=range(1),dtype='float')\n",
    "\n",
    "# Import new data for predictions & create empty DataFrame with shape[test_set.shape[0],1]\n",
    "production_data = pd.read_csv('./data/TestSet.csv')\n",
    "production_targets = pd.DataFrame(index=range(production_data.shape[0]),columns=range(1),dtype='float')\n",
    "\n",
    "if isinstance(production_data, pd.DataFrame):\n",
    "    print(\"New data successfully imported.\")\n",
    "else:\n",
    "    print(\"New data failed to import.\")\n",
    "    \n",
    "# # Load model and all of its trained parameters\n",
    "# checkpoint = torch.load('checkpoint_v1.pth')\n",
    "# model = model_1.JobPerformance(checkpoint['input_size'],checkpoint['output_size'],checkpoint['hidden_layers'],checkpoint['drop_out'])\n",
    "# model.load_state_dict(checkpoint['state_dict'])\n",
    "\n",
    "# print(\"Our Model: \\n\",model,\"\\n\")"
   ]
  },
  {
   "cell_type": "markdown",
   "metadata": {},
   "source": [
    "## Preprocess Data & Setup Data Loader"
   ]
  },
  {
   "cell_type": "code",
   "execution_count": 11,
   "metadata": {},
   "outputs": [
    {
     "name": "stdout",
     "output_type": "stream",
     "text": [
      "\n",
      "Starting Shape: (16000, 378) \n",
      "  Forcing column 'v71' to numerical data. \n",
      "  Preprocessing: \n",
      "    Numerical: Missing Value Ratio Filter (>0.5) \n",
      "      Starting Numerical Features:  84\n",
      "      Remaining Numerical Features: 36\n",
      "    Numerical: Imputation \n",
      "    Numerical: Normalization \n",
      "    Numerical: Low Variance Filter (>0.01) \n",
      "      Starting Numerical Features:  36\n",
      "      Remaining Numerical Features: 30\n",
      "    Categorical: Missing Value Ratio Filter (>0.5) \n",
      "      Starting Categorical Features:  294\n",
      "      Remaining Categorical Features: 294\n",
      "    Categorical: Imputation \n",
      "    Categorical: Conversion of Ints to Strings \n",
      "    Categorical: One Hot Encoding \n",
      "      Starting Categorical Features: 294\n",
      "      Remaining Categorical Features: 2769\n",
      "    Categorical: Low Variance Filter (>0.01) \n",
      "      Starting Categorical Features:  2769\n",
      "      Remaining Categorical Features: 2769\n",
      "  Recombined Numerical & Categorical Shape:  (20000, 2799)\n",
      "  Dimensionality Reduction:  \n",
      "    Converted Matrix to DataFrame\n",
      "    High Correlation Filter (> 0.9) \n",
      "      Selected Features: 2309\n",
      "Final Shape: (20000, 2309)\n",
      "New data successfully preprocessed and is ready for predictions.\n"
     ]
    }
   ],
   "source": [
    "import pipeline_functions\n",
    "from sklearn.externals import joblib\n",
    "\n",
    "# Import preprocessing pipeline\n",
    "preprocessing_pipeline = joblib.load('../2309_preprocessing_params.joblib') \n",
    "\n",
    "# Send production data through preprocessing\n",
    "production_data_processed = preprocessing_pipeline.transform(production_data)\n",
    "\n",
    "# Load preprocessed data into data loader\n",
    "production_data = torch.utils.data.TensorDataset(torch.Tensor(np.array(production_data_processed)), torch.Tensor(np.array(production_targets)))\n",
    "production_loader = torch.utils.data.DataLoader(production_data_processed, batch_size = 32, shuffle = False)\n",
    "\n",
    "if(production_loader):\n",
    "    print(\"New data successfully preprocessed and is ready for predictions.\")\n",
    "else:\n",
    "    print(\"Preprocessing failed.\")"
   ]
  },
  {
   "cell_type": "markdown",
   "metadata": {},
   "source": [
    "## Run Model & Save Predictions\n",
    "Expected Results: 31,000 MSE"
   ]
  },
  {
   "cell_type": "code",
   "execution_count": 18,
   "metadata": {},
   "outputs": [
    {
     "name": "stdout",
     "output_type": "stream",
     "text": [
      "Predictions data saved to CSV file.\n"
     ]
    }
   ],
   "source": [
    "predictions_tensor = model_1.predict(model, production_loader)\n",
    "output_dataframe = pd.DataFrame(predictions_tensor.detach().numpy().round(2))\n",
    "\n",
    "raw_test_set = pd.read_csv('./data/TestSet.csv')\n",
    "raw_test_set['job_performance'] = output_dataframe.iloc[:,0]\n",
    "raw_test_set.to_csv(r'./data/predictions_v2.csv', index=False)\n",
    "print(\"Predictions data saved to CSV file.\")"
   ]
  }
 ],
 "metadata": {
  "kernelspec": {
   "display_name": "Python 3",
   "language": "python",
   "name": "python3"
  },
  "language_info": {
   "codemirror_mode": {
    "name": "ipython",
    "version": 3
   },
   "file_extension": ".py",
   "mimetype": "text/x-python",
   "name": "python",
   "nbconvert_exporter": "python",
   "pygments_lexer": "ipython3",
   "version": "3.7.1"
  }
 },
 "nbformat": 4,
 "nbformat_minor": 2
}
